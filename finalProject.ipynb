{
 "cells": [
  {
   "cell_type": "markdown",
   "id": "3f93f36f-197e-4657-bf82-22e5fa20ccf9",
   "metadata": {},
   "source": [
    "# Final Report "
   ]
  },
  {
   "cell_type": "code",
   "execution_count": null,
   "id": "e4d41bd2-0ed1-490e-b131-219b27af67c8",
   "metadata": {},
   "outputs": [],
   "source": []
  }
 ],
 "metadata": {
  "kernelspec": {
   "display_name": "R",
   "language": "R",
   "name": "ir"
  },
  "language_info": {
   "codemirror_mode": "r",
   "file_extension": ".r",
   "mimetype": "text/x-r-source",
   "name": "R",
   "pygments_lexer": "r",
   "version": "4.2.3"
  }
 },
 "nbformat": 4,
 "nbformat_minor": 5
}
