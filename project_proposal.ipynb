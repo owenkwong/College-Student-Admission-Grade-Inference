{
 "cells": [
  {
   "cell_type": "markdown",
   "id": "96275f25-4be1-43c2-a37f-051ed202afa0",
   "metadata": {},
   "source": [
    "# Group Project Proposal:\n",
    "\n",
    "Members: Annabel Lim, Owen Kong, Yash Mali, Yui Mikuriya"
   ]
  },
  {
   "cell_type": "markdown",
   "id": "d2d7f79c-8fe5-46c9-842c-4f41f99d9d93",
   "metadata": {},
   "source": [
    "## Introduction"
   ]
  },
  {
   "cell_type": "markdown",
   "id": "103b61bf-8d57-4edc-9373-740af76297ae",
   "metadata": {},
   "source": [
    "## Preliminary Results"
   ]
  },
  {
   "cell_type": "markdown",
   "id": "928da08f-c9de-4db9-ac39-bb182fc435f1",
   "metadata": {},
   "source": [
    "## Methods: Plan"
   ]
  },
  {
   "cell_type": "markdown",
   "id": "cde44ee3-a74b-487f-875d-7034cef9d699",
   "metadata": {
    "tags": []
   },
   "source": [
    "## References"
   ]
  },
  {
   "cell_type": "code",
   "execution_count": null,
   "id": "4eebea5f-f187-415a-9c21-5679632745b9",
   "metadata": {},
   "outputs": [],
   "source": []
  }
 ],
 "metadata": {
  "kernelspec": {
   "display_name": "R",
   "language": "R",
   "name": "ir"
  },
  "language_info": {
   "codemirror_mode": "r",
   "file_extension": ".r",
   "mimetype": "text/x-r-source",
   "name": "R",
   "pygments_lexer": "r",
   "version": "4.2.3"
  }
 },
 "nbformat": 4,
 "nbformat_minor": 5
}
