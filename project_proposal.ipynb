{
 "cells": [
  {
   "cell_type": "markdown",
   "id": "96275f25-4be1-43c2-a37f-051ed202afa0",
   "metadata": {},
   "source": [
    "# Group Project Proposal:\n",
    "\n",
    "Members: Annabel Lim, Owen Kong, Yash Mali, Yui Mikuriya"
   ]
  },
  {
   "cell_type": "markdown",
   "id": "d2d7f79c-8fe5-46c9-842c-4f41f99d9d93",
   "metadata": {},
   "source": [
    "## Introduction"
   ]
  },
  {
   "cell_type": "markdown",
   "id": "103b61bf-8d57-4edc-9373-740af76297ae",
   "metadata": {},
   "source": [
    "## Preliminary Results"
   ]
  },
  {
   "cell_type": "code",
   "execution_count": 2,
   "id": "d2388fde-99c0-46fd-b7a2-98a0e8cf5ccb",
   "metadata": {
    "tags": []
   },
   "outputs": [
    {
     "name": "stderr",
     "output_type": "stream",
     "text": [
      "── \u001b[1mAttaching core tidyverse packages\u001b[22m ──────────────────────── tidyverse 2.0.0 ──\n",
      "\u001b[32m✔\u001b[39m \u001b[34mdplyr    \u001b[39m 1.1.3     \u001b[32m✔\u001b[39m \u001b[34mreadr    \u001b[39m 2.1.4\n",
      "\u001b[32m✔\u001b[39m \u001b[34mforcats  \u001b[39m 1.0.0     \u001b[32m✔\u001b[39m \u001b[34mstringr  \u001b[39m 1.5.0\n",
      "\u001b[32m✔\u001b[39m \u001b[34mggplot2  \u001b[39m 3.4.3     \u001b[32m✔\u001b[39m \u001b[34mtibble   \u001b[39m 3.2.1\n",
      "\u001b[32m✔\u001b[39m \u001b[34mlubridate\u001b[39m 1.9.2     \u001b[32m✔\u001b[39m \u001b[34mtidyr    \u001b[39m 1.3.0\n",
      "\u001b[32m✔\u001b[39m \u001b[34mpurrr    \u001b[39m 1.0.1     \n",
      "── \u001b[1mConflicts\u001b[22m ────────────────────────────────────────── tidyverse_conflicts() ──\n",
      "\u001b[31m✖\u001b[39m \u001b[34mdplyr\u001b[39m::\u001b[32mfilter()\u001b[39m    masks \u001b[34mstats\u001b[39m::filter()\n",
      "\u001b[31m✖\u001b[39m \u001b[34mdplyr\u001b[39m::\u001b[32mlag()\u001b[39m       masks \u001b[34mstats\u001b[39m::lag()\n",
      "\u001b[31m✖\u001b[39m \u001b[34mlubridate\u001b[39m::\u001b[32mstamp()\u001b[39m masks \u001b[34mcowplot\u001b[39m::stamp()\n",
      "\u001b[36mℹ\u001b[39m Use the conflicted package (\u001b[3m\u001b[34m<http://conflicted.r-lib.org/>\u001b[39m\u001b[23m) to force all conflicts to become errors\n"
     ]
    }
   ],
   "source": [
    "# load libraries\n",
    "library(cowplot)\n",
    "library(datateachr)\n",
    "library(digest)\n",
    "library(infer)\n",
    "library(repr)\n",
    "library(taxyvr)\n",
    "library(tidyverse)\n",
    "library(dplyr)\n",
    "library(datateachr)\n",
    "\n",
    "# set seed\n",
    "set.seed(2023);"
   ]
  },
  {
   "cell_type": "code",
   "execution_count": 4,
   "id": "e2a62a96-7b15-4e7d-bba6-6bc4d239f92b",
   "metadata": {
    "tags": []
   },
   "outputs": [
    {
     "data": {
      "text/html": [
       "<table class=\"dataframe\">\n",
       "<caption>A data.frame: 6 × 37</caption>\n",
       "<thead>\n",
       "\t<tr><th></th><th scope=col>Marital.status</th><th scope=col>Application.mode</th><th scope=col>Application.order</th><th scope=col>Course</th><th scope=col>Daytime.evening.attendance.</th><th scope=col>Previous.qualification</th><th scope=col>Previous.qualification..grade.</th><th scope=col>Nacionality</th><th scope=col>Mother.s.qualification</th><th scope=col>Father.s.qualification</th><th scope=col>⋯</th><th scope=col>Curricular.units.2nd.sem..credited.</th><th scope=col>Curricular.units.2nd.sem..enrolled.</th><th scope=col>Curricular.units.2nd.sem..evaluations.</th><th scope=col>Curricular.units.2nd.sem..approved.</th><th scope=col>Curricular.units.2nd.sem..grade.</th><th scope=col>Curricular.units.2nd.sem..without.evaluations.</th><th scope=col>Unemployment.rate</th><th scope=col>Inflation.rate</th><th scope=col>GDP</th><th scope=col>Target</th></tr>\n",
       "\t<tr><th></th><th scope=col>&lt;int&gt;</th><th scope=col>&lt;int&gt;</th><th scope=col>&lt;int&gt;</th><th scope=col>&lt;int&gt;</th><th scope=col>&lt;int&gt;</th><th scope=col>&lt;int&gt;</th><th scope=col>&lt;chr&gt;</th><th scope=col>&lt;int&gt;</th><th scope=col>&lt;int&gt;</th><th scope=col>&lt;int&gt;</th><th scope=col>⋯</th><th scope=col>&lt;int&gt;</th><th scope=col>&lt;int&gt;</th><th scope=col>&lt;int&gt;</th><th scope=col>&lt;int&gt;</th><th scope=col>&lt;chr&gt;</th><th scope=col>&lt;int&gt;</th><th scope=col>&lt;chr&gt;</th><th scope=col>&lt;chr&gt;</th><th scope=col>&lt;chr&gt;</th><th scope=col>&lt;fct&gt;</th></tr>\n",
       "</thead>\n",
       "<tbody>\n",
       "\t<tr><th scope=row>1</th><td>1</td><td>17</td><td>5</td><td> 171</td><td>1</td><td> 1</td><td>122.0</td><td>1</td><td>19</td><td>12</td><td>⋯</td><td>0</td><td>0</td><td> 0</td><td>0</td><td>0.0               </td><td>0</td><td>10.8</td><td>1.4 </td><td>1.74 </td><td>Dropout </td></tr>\n",
       "\t<tr><th scope=row>2</th><td>1</td><td>15</td><td>1</td><td>9254</td><td>1</td><td> 1</td><td>160.0</td><td>1</td><td> 1</td><td> 3</td><td>⋯</td><td>0</td><td>6</td><td> 6</td><td>6</td><td>13.666666666666666</td><td>0</td><td>13.9</td><td>-0.3</td><td>0.79 </td><td>Graduate</td></tr>\n",
       "\t<tr><th scope=row>3</th><td>1</td><td> 1</td><td>5</td><td>9070</td><td>1</td><td> 1</td><td>122.0</td><td>1</td><td>37</td><td>37</td><td>⋯</td><td>0</td><td>6</td><td> 0</td><td>0</td><td>0.0               </td><td>0</td><td>10.8</td><td>1.4 </td><td>1.74 </td><td>Dropout </td></tr>\n",
       "\t<tr><th scope=row>4</th><td>1</td><td>17</td><td>2</td><td>9773</td><td>1</td><td> 1</td><td>122.0</td><td>1</td><td>38</td><td>37</td><td>⋯</td><td>0</td><td>6</td><td>10</td><td>5</td><td>12.4              </td><td>0</td><td>9.4 </td><td>-0.8</td><td>-3.12</td><td>Graduate</td></tr>\n",
       "\t<tr><th scope=row>5</th><td>2</td><td>39</td><td>1</td><td>8014</td><td>0</td><td> 1</td><td>100.0</td><td>1</td><td>37</td><td>38</td><td>⋯</td><td>0</td><td>6</td><td> 6</td><td>6</td><td>13.0              </td><td>0</td><td>13.9</td><td>-0.3</td><td>0.79 </td><td>Graduate</td></tr>\n",
       "\t<tr><th scope=row>6</th><td>2</td><td>39</td><td>1</td><td>9991</td><td>0</td><td>19</td><td>133.1</td><td>1</td><td>37</td><td>37</td><td>⋯</td><td>0</td><td>5</td><td>17</td><td>5</td><td>11.5              </td><td>5</td><td>16.2</td><td>0.3 </td><td>-0.92</td><td>Graduate</td></tr>\n",
       "</tbody>\n",
       "</table>\n"
      ],
      "text/latex": [
       "A data.frame: 6 × 37\n",
       "\\begin{tabular}{r|lllllllllllllllllllll}\n",
       "  & Marital.status & Application.mode & Application.order & Course & Daytime.evening.attendance. & Previous.qualification & Previous.qualification..grade. & Nacionality & Mother.s.qualification & Father.s.qualification & ⋯ & Curricular.units.2nd.sem..credited. & Curricular.units.2nd.sem..enrolled. & Curricular.units.2nd.sem..evaluations. & Curricular.units.2nd.sem..approved. & Curricular.units.2nd.sem..grade. & Curricular.units.2nd.sem..without.evaluations. & Unemployment.rate & Inflation.rate & GDP & Target\\\\\n",
       "  & <int> & <int> & <int> & <int> & <int> & <int> & <chr> & <int> & <int> & <int> & ⋯ & <int> & <int> & <int> & <int> & <chr> & <int> & <chr> & <chr> & <chr> & <fct>\\\\\n",
       "\\hline\n",
       "\t1 & 1 & 17 & 5 &  171 & 1 &  1 & 122.0 & 1 & 19 & 12 & ⋯ & 0 & 0 &  0 & 0 & 0.0                & 0 & 10.8 & 1.4  & 1.74  & Dropout \\\\\n",
       "\t2 & 1 & 15 & 1 & 9254 & 1 &  1 & 160.0 & 1 &  1 &  3 & ⋯ & 0 & 6 &  6 & 6 & 13.666666666666666 & 0 & 13.9 & -0.3 & 0.79  & Graduate\\\\\n",
       "\t3 & 1 &  1 & 5 & 9070 & 1 &  1 & 122.0 & 1 & 37 & 37 & ⋯ & 0 & 6 &  0 & 0 & 0.0                & 0 & 10.8 & 1.4  & 1.74  & Dropout \\\\\n",
       "\t4 & 1 & 17 & 2 & 9773 & 1 &  1 & 122.0 & 1 & 38 & 37 & ⋯ & 0 & 6 & 10 & 5 & 12.4               & 0 & 9.4  & -0.8 & -3.12 & Graduate\\\\\n",
       "\t5 & 2 & 39 & 1 & 8014 & 0 &  1 & 100.0 & 1 & 37 & 38 & ⋯ & 0 & 6 &  6 & 6 & 13.0               & 0 & 13.9 & -0.3 & 0.79  & Graduate\\\\\n",
       "\t6 & 2 & 39 & 1 & 9991 & 0 & 19 & 133.1 & 1 & 37 & 37 & ⋯ & 0 & 5 & 17 & 5 & 11.5               & 5 & 16.2 & 0.3  & -0.92 & Graduate\\\\\n",
       "\\end{tabular}\n"
      ],
      "text/markdown": [
       "\n",
       "A data.frame: 6 × 37\n",
       "\n",
       "| <!--/--> | Marital.status &lt;int&gt; | Application.mode &lt;int&gt; | Application.order &lt;int&gt; | Course &lt;int&gt; | Daytime.evening.attendance. &lt;int&gt; | Previous.qualification &lt;int&gt; | Previous.qualification..grade. &lt;chr&gt; | Nacionality &lt;int&gt; | Mother.s.qualification &lt;int&gt; | Father.s.qualification &lt;int&gt; | ⋯ ⋯ | Curricular.units.2nd.sem..credited. &lt;int&gt; | Curricular.units.2nd.sem..enrolled. &lt;int&gt; | Curricular.units.2nd.sem..evaluations. &lt;int&gt; | Curricular.units.2nd.sem..approved. &lt;int&gt; | Curricular.units.2nd.sem..grade. &lt;chr&gt; | Curricular.units.2nd.sem..without.evaluations. &lt;int&gt; | Unemployment.rate &lt;chr&gt; | Inflation.rate &lt;chr&gt; | GDP &lt;chr&gt; | Target &lt;fct&gt; |\n",
       "|---|---|---|---|---|---|---|---|---|---|---|---|---|---|---|---|---|---|---|---|---|---|\n",
       "| 1 | 1 | 17 | 5 |  171 | 1 |  1 | 122.0 | 1 | 19 | 12 | ⋯ | 0 | 0 |  0 | 0 | 0.0                | 0 | 10.8 | 1.4  | 1.74  | Dropout  |\n",
       "| 2 | 1 | 15 | 1 | 9254 | 1 |  1 | 160.0 | 1 |  1 |  3 | ⋯ | 0 | 6 |  6 | 6 | 13.666666666666666 | 0 | 13.9 | -0.3 | 0.79  | Graduate |\n",
       "| 3 | 1 |  1 | 5 | 9070 | 1 |  1 | 122.0 | 1 | 37 | 37 | ⋯ | 0 | 6 |  0 | 0 | 0.0                | 0 | 10.8 | 1.4  | 1.74  | Dropout  |\n",
       "| 4 | 1 | 17 | 2 | 9773 | 1 |  1 | 122.0 | 1 | 38 | 37 | ⋯ | 0 | 6 | 10 | 5 | 12.4               | 0 | 9.4  | -0.8 | -3.12 | Graduate |\n",
       "| 5 | 2 | 39 | 1 | 8014 | 0 |  1 | 100.0 | 1 | 37 | 38 | ⋯ | 0 | 6 |  6 | 6 | 13.0               | 0 | 13.9 | -0.3 | 0.79  | Graduate |\n",
       "| 6 | 2 | 39 | 1 | 9991 | 0 | 19 | 133.1 | 1 | 37 | 37 | ⋯ | 0 | 5 | 17 | 5 | 11.5               | 5 | 16.2 | 0.3  | -0.92 | Graduate |\n",
       "\n"
      ],
      "text/plain": [
       "  Marital.status Application.mode Application.order Course\n",
       "1 1              17               5                  171  \n",
       "2 1              15               1                 9254  \n",
       "3 1               1               5                 9070  \n",
       "4 1              17               2                 9773  \n",
       "5 2              39               1                 8014  \n",
       "6 2              39               1                 9991  \n",
       "  Daytime.evening.attendance. Previous.qualification\n",
       "1 1                            1                    \n",
       "2 1                            1                    \n",
       "3 1                            1                    \n",
       "4 1                            1                    \n",
       "5 0                            1                    \n",
       "6 0                           19                    \n",
       "  Previous.qualification..grade. Nacionality Mother.s.qualification\n",
       "1 122.0                          1           19                    \n",
       "2 160.0                          1            1                    \n",
       "3 122.0                          1           37                    \n",
       "4 122.0                          1           38                    \n",
       "5 100.0                          1           37                    \n",
       "6 133.1                          1           37                    \n",
       "  Father.s.qualification ⋯ Curricular.units.2nd.sem..credited.\n",
       "1 12                     ⋯ 0                                  \n",
       "2  3                     ⋯ 0                                  \n",
       "3 37                     ⋯ 0                                  \n",
       "4 37                     ⋯ 0                                  \n",
       "5 38                     ⋯ 0                                  \n",
       "6 37                     ⋯ 0                                  \n",
       "  Curricular.units.2nd.sem..enrolled. Curricular.units.2nd.sem..evaluations.\n",
       "1 0                                    0                                    \n",
       "2 6                                    6                                    \n",
       "3 6                                    0                                    \n",
       "4 6                                   10                                    \n",
       "5 6                                    6                                    \n",
       "6 5                                   17                                    \n",
       "  Curricular.units.2nd.sem..approved. Curricular.units.2nd.sem..grade.\n",
       "1 0                                   0.0                             \n",
       "2 6                                   13.666666666666666              \n",
       "3 0                                   0.0                             \n",
       "4 5                                   12.4                            \n",
       "5 6                                   13.0                            \n",
       "6 5                                   11.5                            \n",
       "  Curricular.units.2nd.sem..without.evaluations. Unemployment.rate\n",
       "1 0                                              10.8             \n",
       "2 0                                              13.9             \n",
       "3 0                                              10.8             \n",
       "4 0                                              9.4              \n",
       "5 0                                              13.9             \n",
       "6 5                                              16.2             \n",
       "  Inflation.rate GDP   Target  \n",
       "1 1.4            1.74  Dropout \n",
       "2 -0.3           0.79  Graduate\n",
       "3 1.4            1.74  Dropout \n",
       "4 -0.8           -3.12 Graduate\n",
       "5 -0.3           0.79  Graduate\n",
       "6 0.3            -0.92 Graduate"
      ]
     },
     "metadata": {},
     "output_type": "display_data"
    }
   ],
   "source": [
    "# data url (zip file)\n",
    "url <- \"https://archive.ics.uci.edu/static/public/697/predict+students+dropout+and+academic+success.zip\"\n",
    "\n",
    "\n",
    "# unzip and load data\n",
    "temp <- tempfile()\n",
    "download.file(url,temp)\n",
    "dropout_data <- read.csv2(unz(temp, \"data.csv\")) |> \n",
    "    mutate(Target = as_factor(Target))\n",
    "\n",
    "unlink(temp)\n",
    "\n",
    "head(dropout_data)"
   ]
  },
  {
   "cell_type": "markdown",
   "id": "928da08f-c9de-4db9-ac39-bb182fc435f1",
   "metadata": {},
   "source": [
    "## Methods: Plan"
   ]
  },
  {
   "cell_type": "markdown",
   "id": "cde44ee3-a74b-487f-875d-7034cef9d699",
   "metadata": {
    "tags": []
   },
   "source": [
    "## References"
   ]
  },
  {
   "cell_type": "code",
   "execution_count": null,
   "id": "4eebea5f-f187-415a-9c21-5679632745b9",
   "metadata": {},
   "outputs": [],
   "source": []
  }
 ],
 "metadata": {
  "kernelspec": {
   "display_name": "R",
   "language": "R",
   "name": "ir"
  },
  "language_info": {
   "codemirror_mode": "r",
   "file_extension": ".r",
   "mimetype": "text/x-r-source",
   "name": "R",
   "pygments_lexer": "r",
   "version": "4.2.3"
  }
 },
 "nbformat": 4,
 "nbformat_minor": 5
}
