{
 "cells": [
  {
   "cell_type": "markdown",
   "id": "96275f25-4be1-43c2-a37f-051ed202afa0",
   "metadata": {},
   "source": [
    "# Student Dropout Analysis\n",
    "\n",
    "**Annabel Lim, Owen Kwong, Yash Mali, Yui Mikuriya (Group 20)**"
   ]
  },
  {
   "cell_type": "markdown",
   "id": "d2d7f79c-8fe5-46c9-842c-4f41f99d9d93",
   "metadata": {},
   "source": [
    "## 1. Introduction\n",
    "\n",
    "**Research Question:** *Is there enough evidence to suggest that admission grades of students that dropped out are lower than those of students that graduated?*\n",
    "\n",
    "Higher education institutions worldwide are attempting to effectively address diverse student learning styles and academic performances to enhance the learning experience. One interesting topic to consider is the dropout rate within higher education along with exploration of its root causes. There are many factors that could impact the likelihood of a student to drop out such as mental health issues, financial challenges, and weak academic backgrounds.\n",
    "\n",
    "The goal of this project is to determine if students that dropped out had lower admission grades than the students who graduated. The Polytechnic Institute of Portalegre (IPP) has a dataset with student data from four schools in Portugal. It provides data on factors such as nationality, admission grades, and graduation status. \n"
   ]
  },
  {
   "cell_type": "markdown",
   "id": "103b61bf-8d57-4edc-9373-740af76297ae",
   "metadata": {},
   "source": [
    "## 2. Preliminary Results"
   ]
  },
  {
   "cell_type": "markdown",
   "id": "32d07bed-c055-4e58-86df-05c5f2b778f7",
   "metadata": {
    "tags": []
   },
   "source": [
    "### Libraries, seed, table rows"
   ]
  },
  {
   "cell_type": "code",
   "execution_count": 2,
   "id": "d2388fde-99c0-46fd-b7a2-98a0e8cf5ccb",
   "metadata": {
    "tags": []
   },
   "outputs": [
    {
     "name": "stderr",
     "output_type": "stream",
     "text": [
      "── \u001b[1mAttaching core tidyverse packages\u001b[22m ──────────────────────── tidyverse 2.0.0 ──\n",
      "\u001b[32m✔\u001b[39m \u001b[34mdplyr    \u001b[39m 1.1.3     \u001b[32m✔\u001b[39m \u001b[34mreadr    \u001b[39m 2.1.4\n",
      "\u001b[32m✔\u001b[39m \u001b[34mforcats  \u001b[39m 1.0.0     \u001b[32m✔\u001b[39m \u001b[34mstringr  \u001b[39m 1.5.0\n",
      "\u001b[32m✔\u001b[39m \u001b[34mggplot2  \u001b[39m 3.4.3     \u001b[32m✔\u001b[39m \u001b[34mtibble   \u001b[39m 3.2.1\n",
      "\u001b[32m✔\u001b[39m \u001b[34mlubridate\u001b[39m 1.9.2     \u001b[32m✔\u001b[39m \u001b[34mtidyr    \u001b[39m 1.3.0\n",
      "\u001b[32m✔\u001b[39m \u001b[34mpurrr    \u001b[39m 1.0.1     \n",
      "── \u001b[1mConflicts\u001b[22m ────────────────────────────────────────── tidyverse_conflicts() ──\n",
      "\u001b[31m✖\u001b[39m \u001b[34mdplyr\u001b[39m::\u001b[32mfilter()\u001b[39m    masks \u001b[34mstats\u001b[39m::filter()\n",
      "\u001b[31m✖\u001b[39m \u001b[34mdplyr\u001b[39m::\u001b[32mlag()\u001b[39m       masks \u001b[34mstats\u001b[39m::lag()\n",
      "\u001b[31m✖\u001b[39m \u001b[34mlubridate\u001b[39m::\u001b[32mstamp()\u001b[39m masks \u001b[34mcowplot\u001b[39m::stamp()\n",
      "\u001b[36mℹ\u001b[39m Use the conflicted package (\u001b[3m\u001b[34m<http://conflicted.r-lib.org/>\u001b[39m\u001b[23m) to force all conflicts to become errors\n"
     ]
    }
   ],
   "source": [
    "# load libraries\n",
    "library(cowplot)\n",
    "library(datateachr)\n",
    "library(digest)\n",
    "library(infer)\n",
    "library(repr)\n",
    "library(taxyvr)\n",
    "library(tidyverse)\n",
    "library(dplyr)\n",
    "library(datateachr)\n",
    "\n",
    "# set seed\n",
    "set.seed(2023);\n",
    "\n",
    "# number rows for table \n",
    "options(repr.matrix.max.rows = 8)"
   ]
  },
  {
   "cell_type": "markdown",
   "id": "ff45220d-df4e-4322-bbd7-fb43331f29ea",
   "metadata": {},
   "source": [
    "### Importing Data"
   ]
  },
  {
   "cell_type": "code",
   "execution_count": 6,
   "id": "e2a62a96-7b15-4e7d-bba6-6bc4d239f92b",
   "metadata": {
    "tags": []
   },
   "outputs": [
    {
     "data": {
      "text/html": [
       "<table class=\"dataframe\">\n",
       "<caption>A data.frame: 4424 × 37</caption>\n",
       "<thead>\n",
       "\t<tr><th scope=col>Marital.status</th><th scope=col>Application.mode</th><th scope=col>Application.order</th><th scope=col>Course</th><th scope=col>Daytime.evening.attendance.</th><th scope=col>Previous.qualification</th><th scope=col>Previous.qualification..grade.</th><th scope=col>Nacionality</th><th scope=col>Mother.s.qualification</th><th scope=col>Father.s.qualification</th><th scope=col>⋯</th><th scope=col>Curricular.units.2nd.sem..credited.</th><th scope=col>Curricular.units.2nd.sem..enrolled.</th><th scope=col>Curricular.units.2nd.sem..evaluations.</th><th scope=col>Curricular.units.2nd.sem..approved.</th><th scope=col>Curricular.units.2nd.sem..grade.</th><th scope=col>Curricular.units.2nd.sem..without.evaluations.</th><th scope=col>Unemployment.rate</th><th scope=col>Inflation.rate</th><th scope=col>GDP</th><th scope=col>Target</th></tr>\n",
       "\t<tr><th scope=col>&lt;int&gt;</th><th scope=col>&lt;int&gt;</th><th scope=col>&lt;int&gt;</th><th scope=col>&lt;int&gt;</th><th scope=col>&lt;int&gt;</th><th scope=col>&lt;int&gt;</th><th scope=col>&lt;chr&gt;</th><th scope=col>&lt;int&gt;</th><th scope=col>&lt;int&gt;</th><th scope=col>&lt;int&gt;</th><th scope=col>⋯</th><th scope=col>&lt;int&gt;</th><th scope=col>&lt;int&gt;</th><th scope=col>&lt;int&gt;</th><th scope=col>&lt;int&gt;</th><th scope=col>&lt;chr&gt;</th><th scope=col>&lt;int&gt;</th><th scope=col>&lt;chr&gt;</th><th scope=col>&lt;chr&gt;</th><th scope=col>&lt;chr&gt;</th><th scope=col>&lt;chr&gt;</th></tr>\n",
       "</thead>\n",
       "<tbody>\n",
       "\t<tr><td>1</td><td>17</td><td>5</td><td> 171</td><td>1</td><td>1</td><td>122.0</td><td>1</td><td>19</td><td>12</td><td>⋯</td><td>0</td><td>0</td><td> 0</td><td>0</td><td>0.0               </td><td>0</td><td>10.8</td><td>1.4 </td><td>1.74 </td><td>Dropout </td></tr>\n",
       "\t<tr><td>1</td><td>15</td><td>1</td><td>9254</td><td>1</td><td>1</td><td>160.0</td><td>1</td><td> 1</td><td> 3</td><td>⋯</td><td>0</td><td>6</td><td> 6</td><td>6</td><td>13.666666666666666</td><td>0</td><td>13.9</td><td>-0.3</td><td>0.79 </td><td>Graduate</td></tr>\n",
       "\t<tr><td>1</td><td> 1</td><td>5</td><td>9070</td><td>1</td><td>1</td><td>122.0</td><td>1</td><td>37</td><td>37</td><td>⋯</td><td>0</td><td>6</td><td> 0</td><td>0</td><td>0.0               </td><td>0</td><td>10.8</td><td>1.4 </td><td>1.74 </td><td>Dropout </td></tr>\n",
       "\t<tr><td>1</td><td>17</td><td>2</td><td>9773</td><td>1</td><td>1</td><td>122.0</td><td>1</td><td>38</td><td>37</td><td>⋯</td><td>0</td><td>6</td><td>10</td><td>5</td><td>12.4              </td><td>0</td><td>9.4 </td><td>-0.8</td><td>-3.12</td><td>Graduate</td></tr>\n",
       "\t<tr><td>⋮</td><td>⋮</td><td>⋮</td><td>⋮</td><td>⋮</td><td>⋮</td><td>⋮</td><td>⋮</td><td>⋮</td><td>⋮</td><td>⋱</td><td>⋮</td><td>⋮</td><td>⋮</td><td>⋮</td><td>⋮</td><td>⋮</td><td>⋮</td><td>⋮</td><td>⋮</td><td>⋮</td></tr>\n",
       "\t<tr><td>1</td><td> 1</td><td>2</td><td>9773</td><td>1</td><td>1</td><td>120.0</td><td>105</td><td> 1</td><td> 1</td><td>⋯</td><td>0</td><td>6</td><td>6</td><td>2</td><td>11.0</td><td>0</td><td>11.1</td><td>0.6 </td><td>2.02 </td><td>Dropout </td></tr>\n",
       "\t<tr><td>1</td><td> 1</td><td>1</td><td>9500</td><td>1</td><td>1</td><td>154.0</td><td>  1</td><td>37</td><td>37</td><td>⋯</td><td>0</td><td>8</td><td>9</td><td>1</td><td>13.5</td><td>0</td><td>13.9</td><td>-0.3</td><td>0.79 </td><td>Dropout </td></tr>\n",
       "\t<tr><td>1</td><td> 1</td><td>1</td><td>9147</td><td>1</td><td>1</td><td>180.0</td><td>  1</td><td>37</td><td>37</td><td>⋯</td><td>0</td><td>5</td><td>6</td><td>5</td><td>12.0</td><td>0</td><td>9.4 </td><td>-0.8</td><td>-3.12</td><td>Graduate</td></tr>\n",
       "\t<tr><td>1</td><td>10</td><td>1</td><td>9773</td><td>1</td><td>1</td><td>152.0</td><td> 22</td><td>38</td><td>37</td><td>⋯</td><td>0</td><td>6</td><td>6</td><td>6</td><td>13.0</td><td>0</td><td>12.7</td><td>3.7 </td><td>-1.7 </td><td>Graduate</td></tr>\n",
       "</tbody>\n",
       "</table>\n"
      ],
      "text/latex": [
       "A data.frame: 4424 × 37\n",
       "\\begin{tabular}{lllllllllllllllllllll}\n",
       " Marital.status & Application.mode & Application.order & Course & Daytime.evening.attendance. & Previous.qualification & Previous.qualification..grade. & Nacionality & Mother.s.qualification & Father.s.qualification & ⋯ & Curricular.units.2nd.sem..credited. & Curricular.units.2nd.sem..enrolled. & Curricular.units.2nd.sem..evaluations. & Curricular.units.2nd.sem..approved. & Curricular.units.2nd.sem..grade. & Curricular.units.2nd.sem..without.evaluations. & Unemployment.rate & Inflation.rate & GDP & Target\\\\\n",
       " <int> & <int> & <int> & <int> & <int> & <int> & <chr> & <int> & <int> & <int> & ⋯ & <int> & <int> & <int> & <int> & <chr> & <int> & <chr> & <chr> & <chr> & <chr>\\\\\n",
       "\\hline\n",
       "\t 1 & 17 & 5 &  171 & 1 & 1 & 122.0 & 1 & 19 & 12 & ⋯ & 0 & 0 &  0 & 0 & 0.0                & 0 & 10.8 & 1.4  & 1.74  & Dropout \\\\\n",
       "\t 1 & 15 & 1 & 9254 & 1 & 1 & 160.0 & 1 &  1 &  3 & ⋯ & 0 & 6 &  6 & 6 & 13.666666666666666 & 0 & 13.9 & -0.3 & 0.79  & Graduate\\\\\n",
       "\t 1 &  1 & 5 & 9070 & 1 & 1 & 122.0 & 1 & 37 & 37 & ⋯ & 0 & 6 &  0 & 0 & 0.0                & 0 & 10.8 & 1.4  & 1.74  & Dropout \\\\\n",
       "\t 1 & 17 & 2 & 9773 & 1 & 1 & 122.0 & 1 & 38 & 37 & ⋯ & 0 & 6 & 10 & 5 & 12.4               & 0 & 9.4  & -0.8 & -3.12 & Graduate\\\\\n",
       "\t ⋮ & ⋮ & ⋮ & ⋮ & ⋮ & ⋮ & ⋮ & ⋮ & ⋮ & ⋮ & ⋱ & ⋮ & ⋮ & ⋮ & ⋮ & ⋮ & ⋮ & ⋮ & ⋮ & ⋮ & ⋮\\\\\n",
       "\t 1 &  1 & 2 & 9773 & 1 & 1 & 120.0 & 105 &  1 &  1 & ⋯ & 0 & 6 & 6 & 2 & 11.0 & 0 & 11.1 & 0.6  & 2.02  & Dropout \\\\\n",
       "\t 1 &  1 & 1 & 9500 & 1 & 1 & 154.0 &   1 & 37 & 37 & ⋯ & 0 & 8 & 9 & 1 & 13.5 & 0 & 13.9 & -0.3 & 0.79  & Dropout \\\\\n",
       "\t 1 &  1 & 1 & 9147 & 1 & 1 & 180.0 &   1 & 37 & 37 & ⋯ & 0 & 5 & 6 & 5 & 12.0 & 0 & 9.4  & -0.8 & -3.12 & Graduate\\\\\n",
       "\t 1 & 10 & 1 & 9773 & 1 & 1 & 152.0 &  22 & 38 & 37 & ⋯ & 0 & 6 & 6 & 6 & 13.0 & 0 & 12.7 & 3.7  & -1.7  & Graduate\\\\\n",
       "\\end{tabular}\n"
      ],
      "text/markdown": [
       "\n",
       "A data.frame: 4424 × 37\n",
       "\n",
       "| Marital.status &lt;int&gt; | Application.mode &lt;int&gt; | Application.order &lt;int&gt; | Course &lt;int&gt; | Daytime.evening.attendance. &lt;int&gt; | Previous.qualification &lt;int&gt; | Previous.qualification..grade. &lt;chr&gt; | Nacionality &lt;int&gt; | Mother.s.qualification &lt;int&gt; | Father.s.qualification &lt;int&gt; | ⋯ ⋯ | Curricular.units.2nd.sem..credited. &lt;int&gt; | Curricular.units.2nd.sem..enrolled. &lt;int&gt; | Curricular.units.2nd.sem..evaluations. &lt;int&gt; | Curricular.units.2nd.sem..approved. &lt;int&gt; | Curricular.units.2nd.sem..grade. &lt;chr&gt; | Curricular.units.2nd.sem..without.evaluations. &lt;int&gt; | Unemployment.rate &lt;chr&gt; | Inflation.rate &lt;chr&gt; | GDP &lt;chr&gt; | Target &lt;chr&gt; |\n",
       "|---|---|---|---|---|---|---|---|---|---|---|---|---|---|---|---|---|---|---|---|---|\n",
       "| 1 | 17 | 5 |  171 | 1 | 1 | 122.0 | 1 | 19 | 12 | ⋯ | 0 | 0 |  0 | 0 | 0.0                | 0 | 10.8 | 1.4  | 1.74  | Dropout  |\n",
       "| 1 | 15 | 1 | 9254 | 1 | 1 | 160.0 | 1 |  1 |  3 | ⋯ | 0 | 6 |  6 | 6 | 13.666666666666666 | 0 | 13.9 | -0.3 | 0.79  | Graduate |\n",
       "| 1 |  1 | 5 | 9070 | 1 | 1 | 122.0 | 1 | 37 | 37 | ⋯ | 0 | 6 |  0 | 0 | 0.0                | 0 | 10.8 | 1.4  | 1.74  | Dropout  |\n",
       "| 1 | 17 | 2 | 9773 | 1 | 1 | 122.0 | 1 | 38 | 37 | ⋯ | 0 | 6 | 10 | 5 | 12.4               | 0 | 9.4  | -0.8 | -3.12 | Graduate |\n",
       "| ⋮ | ⋮ | ⋮ | ⋮ | ⋮ | ⋮ | ⋮ | ⋮ | ⋮ | ⋮ | ⋱ | ⋮ | ⋮ | ⋮ | ⋮ | ⋮ | ⋮ | ⋮ | ⋮ | ⋮ | ⋮ |\n",
       "| 1 |  1 | 2 | 9773 | 1 | 1 | 120.0 | 105 |  1 |  1 | ⋯ | 0 | 6 | 6 | 2 | 11.0 | 0 | 11.1 | 0.6  | 2.02  | Dropout  |\n",
       "| 1 |  1 | 1 | 9500 | 1 | 1 | 154.0 |   1 | 37 | 37 | ⋯ | 0 | 8 | 9 | 1 | 13.5 | 0 | 13.9 | -0.3 | 0.79  | Dropout  |\n",
       "| 1 |  1 | 1 | 9147 | 1 | 1 | 180.0 |   1 | 37 | 37 | ⋯ | 0 | 5 | 6 | 5 | 12.0 | 0 | 9.4  | -0.8 | -3.12 | Graduate |\n",
       "| 1 | 10 | 1 | 9773 | 1 | 1 | 152.0 |  22 | 38 | 37 | ⋯ | 0 | 6 | 6 | 6 | 13.0 | 0 | 12.7 | 3.7  | -1.7  | Graduate |\n",
       "\n"
      ],
      "text/plain": [
       "     Marital.status Application.mode Application.order Course\n",
       "1    1              17               5                  171  \n",
       "2    1              15               1                 9254  \n",
       "3    1               1               5                 9070  \n",
       "4    1              17               2                 9773  \n",
       "⋮    ⋮              ⋮                ⋮                 ⋮     \n",
       "4421 1               1               2                 9773  \n",
       "4422 1               1               1                 9500  \n",
       "4423 1               1               1                 9147  \n",
       "4424 1              10               1                 9773  \n",
       "     Daytime.evening.attendance. Previous.qualification\n",
       "1    1                           1                     \n",
       "2    1                           1                     \n",
       "3    1                           1                     \n",
       "4    1                           1                     \n",
       "⋮    ⋮                           ⋮                     \n",
       "4421 1                           1                     \n",
       "4422 1                           1                     \n",
       "4423 1                           1                     \n",
       "4424 1                           1                     \n",
       "     Previous.qualification..grade. Nacionality Mother.s.qualification\n",
       "1    122.0                          1           19                    \n",
       "2    160.0                          1            1                    \n",
       "3    122.0                          1           37                    \n",
       "4    122.0                          1           38                    \n",
       "⋮    ⋮                              ⋮           ⋮                     \n",
       "4421 120.0                          105          1                    \n",
       "4422 154.0                            1         37                    \n",
       "4423 180.0                            1         37                    \n",
       "4424 152.0                           22         38                    \n",
       "     Father.s.qualification ⋯ Curricular.units.2nd.sem..credited.\n",
       "1    12                     ⋯ 0                                  \n",
       "2     3                     ⋯ 0                                  \n",
       "3    37                     ⋯ 0                                  \n",
       "4    37                     ⋯ 0                                  \n",
       "⋮    ⋮                      ⋱ ⋮                                  \n",
       "4421  1                     ⋯ 0                                  \n",
       "4422 37                     ⋯ 0                                  \n",
       "4423 37                     ⋯ 0                                  \n",
       "4424 37                     ⋯ 0                                  \n",
       "     Curricular.units.2nd.sem..enrolled. Curricular.units.2nd.sem..evaluations.\n",
       "1    0                                    0                                    \n",
       "2    6                                    6                                    \n",
       "3    6                                    0                                    \n",
       "4    6                                   10                                    \n",
       "⋮    ⋮                                   ⋮                                     \n",
       "4421 6                                   6                                     \n",
       "4422 8                                   9                                     \n",
       "4423 5                                   6                                     \n",
       "4424 6                                   6                                     \n",
       "     Curricular.units.2nd.sem..approved. Curricular.units.2nd.sem..grade.\n",
       "1    0                                   0.0                             \n",
       "2    6                                   13.666666666666666              \n",
       "3    0                                   0.0                             \n",
       "4    5                                   12.4                            \n",
       "⋮    ⋮                                   ⋮                               \n",
       "4421 2                                   11.0                            \n",
       "4422 1                                   13.5                            \n",
       "4423 5                                   12.0                            \n",
       "4424 6                                   13.0                            \n",
       "     Curricular.units.2nd.sem..without.evaluations. Unemployment.rate\n",
       "1    0                                              10.8             \n",
       "2    0                                              13.9             \n",
       "3    0                                              10.8             \n",
       "4    0                                              9.4              \n",
       "⋮    ⋮                                              ⋮                \n",
       "4421 0                                              11.1             \n",
       "4422 0                                              13.9             \n",
       "4423 0                                              9.4              \n",
       "4424 0                                              12.7             \n",
       "     Inflation.rate GDP   Target  \n",
       "1    1.4            1.74  Dropout \n",
       "2    -0.3           0.79  Graduate\n",
       "3    1.4            1.74  Dropout \n",
       "4    -0.8           -3.12 Graduate\n",
       "⋮    ⋮              ⋮     ⋮       \n",
       "4421 0.6            2.02  Dropout \n",
       "4422 -0.3           0.79  Dropout \n",
       "4423 -0.8           -3.12 Graduate\n",
       "4424 3.7            -1.7  Graduate"
      ]
     },
     "metadata": {},
     "output_type": "display_data"
    }
   ],
   "source": [
    "# data url (zip file)\n",
    "url <- \"https://archive.ics.uci.edu/static/public/697/predict+students+dropout+and+academic+success.zip\"\n",
    "\n",
    "\n",
    "# unzip and load data\n",
    "temp <- tempfile()\n",
    "download.file(url,temp)\n",
    "dropout_data <- read.csv2(unz(temp, \"data.csv\")) \n",
    "unlink(temp)\n",
    "\n",
    "dropout_data # shows that there are 4424 student entries"
   ]
  },
  {
   "cell_type": "markdown",
   "id": "566142f9-ccc9-44fe-bf3f-c5e48e7d09f1",
   "metadata": {},
   "source": [
    "Figure 1. Imported tibble of IPP student dropout data"
   ]
  },
  {
   "cell_type": "markdown",
   "id": "5a36b906-aecb-4253-9934-7128e73129b2",
   "metadata": {},
   "source": [
    "### Cleaning the Data"
   ]
  },
  {
   "cell_type": "code",
   "execution_count": 12,
   "id": "f22d1ae3-1a2f-4255-bf24-75d140203b34",
   "metadata": {
    "tags": []
   },
   "outputs": [
    {
     "data": {
      "text/html": [
       "<table class=\"dataframe\">\n",
       "<caption>A data.frame: 4424 × 37</caption>\n",
       "<thead>\n",
       "\t<tr><th scope=col>Marital.status</th><th scope=col>Application.mode</th><th scope=col>Application.order</th><th scope=col>Course</th><th scope=col>Daytime.evening.attendance.</th><th scope=col>Previous.qualification</th><th scope=col>Previous.qualification..grade.</th><th scope=col>Nacionality</th><th scope=col>Mother.s.qualification</th><th scope=col>Father.s.qualification</th><th scope=col>⋯</th><th scope=col>Curricular.units.2nd.sem..credited.</th><th scope=col>Curricular.units.2nd.sem..enrolled.</th><th scope=col>Curricular.units.2nd.sem..evaluations.</th><th scope=col>Curricular.units.2nd.sem..approved.</th><th scope=col>Curricular.units.2nd.sem..grade.</th><th scope=col>Curricular.units.2nd.sem..without.evaluations.</th><th scope=col>Unemployment.rate</th><th scope=col>Inflation.rate</th><th scope=col>GDP</th><th scope=col>Target</th></tr>\n",
       "\t<tr><th scope=col>&lt;int&gt;</th><th scope=col>&lt;int&gt;</th><th scope=col>&lt;int&gt;</th><th scope=col>&lt;int&gt;</th><th scope=col>&lt;int&gt;</th><th scope=col>&lt;int&gt;</th><th scope=col>&lt;chr&gt;</th><th scope=col>&lt;int&gt;</th><th scope=col>&lt;int&gt;</th><th scope=col>&lt;int&gt;</th><th scope=col>⋯</th><th scope=col>&lt;int&gt;</th><th scope=col>&lt;int&gt;</th><th scope=col>&lt;int&gt;</th><th scope=col>&lt;int&gt;</th><th scope=col>&lt;chr&gt;</th><th scope=col>&lt;int&gt;</th><th scope=col>&lt;chr&gt;</th><th scope=col>&lt;chr&gt;</th><th scope=col>&lt;chr&gt;</th><th scope=col>&lt;fct&gt;</th></tr>\n",
       "</thead>\n",
       "<tbody>\n",
       "\t<tr><td>1</td><td>17</td><td>5</td><td> 171</td><td>1</td><td>1</td><td>122.0</td><td>1</td><td>19</td><td>12</td><td>⋯</td><td>0</td><td>0</td><td> 0</td><td>0</td><td>0.0               </td><td>0</td><td>10.8</td><td>1.4 </td><td>1.74 </td><td>Dropout </td></tr>\n",
       "\t<tr><td>1</td><td>15</td><td>1</td><td>9254</td><td>1</td><td>1</td><td>160.0</td><td>1</td><td> 1</td><td> 3</td><td>⋯</td><td>0</td><td>6</td><td> 6</td><td>6</td><td>13.666666666666666</td><td>0</td><td>13.9</td><td>-0.3</td><td>0.79 </td><td>Graduate</td></tr>\n",
       "\t<tr><td>1</td><td> 1</td><td>5</td><td>9070</td><td>1</td><td>1</td><td>122.0</td><td>1</td><td>37</td><td>37</td><td>⋯</td><td>0</td><td>6</td><td> 0</td><td>0</td><td>0.0               </td><td>0</td><td>10.8</td><td>1.4 </td><td>1.74 </td><td>Dropout </td></tr>\n",
       "\t<tr><td>1</td><td>17</td><td>2</td><td>9773</td><td>1</td><td>1</td><td>122.0</td><td>1</td><td>38</td><td>37</td><td>⋯</td><td>0</td><td>6</td><td>10</td><td>5</td><td>12.4              </td><td>0</td><td>9.4 </td><td>-0.8</td><td>-3.12</td><td>Graduate</td></tr>\n",
       "\t<tr><td>⋮</td><td>⋮</td><td>⋮</td><td>⋮</td><td>⋮</td><td>⋮</td><td>⋮</td><td>⋮</td><td>⋮</td><td>⋮</td><td>⋱</td><td>⋮</td><td>⋮</td><td>⋮</td><td>⋮</td><td>⋮</td><td>⋮</td><td>⋮</td><td>⋮</td><td>⋮</td><td>⋮</td></tr>\n",
       "\t<tr><td>1</td><td> 1</td><td>2</td><td>9773</td><td>1</td><td>1</td><td>120.0</td><td>105</td><td> 1</td><td> 1</td><td>⋯</td><td>0</td><td>6</td><td>6</td><td>2</td><td>11.0</td><td>0</td><td>11.1</td><td>0.6 </td><td>2.02 </td><td>Dropout </td></tr>\n",
       "\t<tr><td>1</td><td> 1</td><td>1</td><td>9500</td><td>1</td><td>1</td><td>154.0</td><td>  1</td><td>37</td><td>37</td><td>⋯</td><td>0</td><td>8</td><td>9</td><td>1</td><td>13.5</td><td>0</td><td>13.9</td><td>-0.3</td><td>0.79 </td><td>Dropout </td></tr>\n",
       "\t<tr><td>1</td><td> 1</td><td>1</td><td>9147</td><td>1</td><td>1</td><td>180.0</td><td>  1</td><td>37</td><td>37</td><td>⋯</td><td>0</td><td>5</td><td>6</td><td>5</td><td>12.0</td><td>0</td><td>9.4 </td><td>-0.8</td><td>-3.12</td><td>Graduate</td></tr>\n",
       "\t<tr><td>1</td><td>10</td><td>1</td><td>9773</td><td>1</td><td>1</td><td>152.0</td><td> 22</td><td>38</td><td>37</td><td>⋯</td><td>0</td><td>6</td><td>6</td><td>6</td><td>13.0</td><td>0</td><td>12.7</td><td>3.7 </td><td>-1.7 </td><td>Graduate</td></tr>\n",
       "</tbody>\n",
       "</table>\n"
      ],
      "text/latex": [
       "A data.frame: 4424 × 37\n",
       "\\begin{tabular}{lllllllllllllllllllll}\n",
       " Marital.status & Application.mode & Application.order & Course & Daytime.evening.attendance. & Previous.qualification & Previous.qualification..grade. & Nacionality & Mother.s.qualification & Father.s.qualification & ⋯ & Curricular.units.2nd.sem..credited. & Curricular.units.2nd.sem..enrolled. & Curricular.units.2nd.sem..evaluations. & Curricular.units.2nd.sem..approved. & Curricular.units.2nd.sem..grade. & Curricular.units.2nd.sem..without.evaluations. & Unemployment.rate & Inflation.rate & GDP & Target\\\\\n",
       " <int> & <int> & <int> & <int> & <int> & <int> & <chr> & <int> & <int> & <int> & ⋯ & <int> & <int> & <int> & <int> & <chr> & <int> & <chr> & <chr> & <chr> & <fct>\\\\\n",
       "\\hline\n",
       "\t 1 & 17 & 5 &  171 & 1 & 1 & 122.0 & 1 & 19 & 12 & ⋯ & 0 & 0 &  0 & 0 & 0.0                & 0 & 10.8 & 1.4  & 1.74  & Dropout \\\\\n",
       "\t 1 & 15 & 1 & 9254 & 1 & 1 & 160.0 & 1 &  1 &  3 & ⋯ & 0 & 6 &  6 & 6 & 13.666666666666666 & 0 & 13.9 & -0.3 & 0.79  & Graduate\\\\\n",
       "\t 1 &  1 & 5 & 9070 & 1 & 1 & 122.0 & 1 & 37 & 37 & ⋯ & 0 & 6 &  0 & 0 & 0.0                & 0 & 10.8 & 1.4  & 1.74  & Dropout \\\\\n",
       "\t 1 & 17 & 2 & 9773 & 1 & 1 & 122.0 & 1 & 38 & 37 & ⋯ & 0 & 6 & 10 & 5 & 12.4               & 0 & 9.4  & -0.8 & -3.12 & Graduate\\\\\n",
       "\t ⋮ & ⋮ & ⋮ & ⋮ & ⋮ & ⋮ & ⋮ & ⋮ & ⋮ & ⋮ & ⋱ & ⋮ & ⋮ & ⋮ & ⋮ & ⋮ & ⋮ & ⋮ & ⋮ & ⋮ & ⋮\\\\\n",
       "\t 1 &  1 & 2 & 9773 & 1 & 1 & 120.0 & 105 &  1 &  1 & ⋯ & 0 & 6 & 6 & 2 & 11.0 & 0 & 11.1 & 0.6  & 2.02  & Dropout \\\\\n",
       "\t 1 &  1 & 1 & 9500 & 1 & 1 & 154.0 &   1 & 37 & 37 & ⋯ & 0 & 8 & 9 & 1 & 13.5 & 0 & 13.9 & -0.3 & 0.79  & Dropout \\\\\n",
       "\t 1 &  1 & 1 & 9147 & 1 & 1 & 180.0 &   1 & 37 & 37 & ⋯ & 0 & 5 & 6 & 5 & 12.0 & 0 & 9.4  & -0.8 & -3.12 & Graduate\\\\\n",
       "\t 1 & 10 & 1 & 9773 & 1 & 1 & 152.0 &  22 & 38 & 37 & ⋯ & 0 & 6 & 6 & 6 & 13.0 & 0 & 12.7 & 3.7  & -1.7  & Graduate\\\\\n",
       "\\end{tabular}\n"
      ],
      "text/markdown": [
       "\n",
       "A data.frame: 4424 × 37\n",
       "\n",
       "| Marital.status &lt;int&gt; | Application.mode &lt;int&gt; | Application.order &lt;int&gt; | Course &lt;int&gt; | Daytime.evening.attendance. &lt;int&gt; | Previous.qualification &lt;int&gt; | Previous.qualification..grade. &lt;chr&gt; | Nacionality &lt;int&gt; | Mother.s.qualification &lt;int&gt; | Father.s.qualification &lt;int&gt; | ⋯ ⋯ | Curricular.units.2nd.sem..credited. &lt;int&gt; | Curricular.units.2nd.sem..enrolled. &lt;int&gt; | Curricular.units.2nd.sem..evaluations. &lt;int&gt; | Curricular.units.2nd.sem..approved. &lt;int&gt; | Curricular.units.2nd.sem..grade. &lt;chr&gt; | Curricular.units.2nd.sem..without.evaluations. &lt;int&gt; | Unemployment.rate &lt;chr&gt; | Inflation.rate &lt;chr&gt; | GDP &lt;chr&gt; | Target &lt;fct&gt; |\n",
       "|---|---|---|---|---|---|---|---|---|---|---|---|---|---|---|---|---|---|---|---|---|\n",
       "| 1 | 17 | 5 |  171 | 1 | 1 | 122.0 | 1 | 19 | 12 | ⋯ | 0 | 0 |  0 | 0 | 0.0                | 0 | 10.8 | 1.4  | 1.74  | Dropout  |\n",
       "| 1 | 15 | 1 | 9254 | 1 | 1 | 160.0 | 1 |  1 |  3 | ⋯ | 0 | 6 |  6 | 6 | 13.666666666666666 | 0 | 13.9 | -0.3 | 0.79  | Graduate |\n",
       "| 1 |  1 | 5 | 9070 | 1 | 1 | 122.0 | 1 | 37 | 37 | ⋯ | 0 | 6 |  0 | 0 | 0.0                | 0 | 10.8 | 1.4  | 1.74  | Dropout  |\n",
       "| 1 | 17 | 2 | 9773 | 1 | 1 | 122.0 | 1 | 38 | 37 | ⋯ | 0 | 6 | 10 | 5 | 12.4               | 0 | 9.4  | -0.8 | -3.12 | Graduate |\n",
       "| ⋮ | ⋮ | ⋮ | ⋮ | ⋮ | ⋮ | ⋮ | ⋮ | ⋮ | ⋮ | ⋱ | ⋮ | ⋮ | ⋮ | ⋮ | ⋮ | ⋮ | ⋮ | ⋮ | ⋮ | ⋮ |\n",
       "| 1 |  1 | 2 | 9773 | 1 | 1 | 120.0 | 105 |  1 |  1 | ⋯ | 0 | 6 | 6 | 2 | 11.0 | 0 | 11.1 | 0.6  | 2.02  | Dropout  |\n",
       "| 1 |  1 | 1 | 9500 | 1 | 1 | 154.0 |   1 | 37 | 37 | ⋯ | 0 | 8 | 9 | 1 | 13.5 | 0 | 13.9 | -0.3 | 0.79  | Dropout  |\n",
       "| 1 |  1 | 1 | 9147 | 1 | 1 | 180.0 |   1 | 37 | 37 | ⋯ | 0 | 5 | 6 | 5 | 12.0 | 0 | 9.4  | -0.8 | -3.12 | Graduate |\n",
       "| 1 | 10 | 1 | 9773 | 1 | 1 | 152.0 |  22 | 38 | 37 | ⋯ | 0 | 6 | 6 | 6 | 13.0 | 0 | 12.7 | 3.7  | -1.7  | Graduate |\n",
       "\n"
      ],
      "text/plain": [
       "     Marital.status Application.mode Application.order Course\n",
       "1    1              17               5                  171  \n",
       "2    1              15               1                 9254  \n",
       "3    1               1               5                 9070  \n",
       "4    1              17               2                 9773  \n",
       "⋮    ⋮              ⋮                ⋮                 ⋮     \n",
       "4421 1               1               2                 9773  \n",
       "4422 1               1               1                 9500  \n",
       "4423 1               1               1                 9147  \n",
       "4424 1              10               1                 9773  \n",
       "     Daytime.evening.attendance. Previous.qualification\n",
       "1    1                           1                     \n",
       "2    1                           1                     \n",
       "3    1                           1                     \n",
       "4    1                           1                     \n",
       "⋮    ⋮                           ⋮                     \n",
       "4421 1                           1                     \n",
       "4422 1                           1                     \n",
       "4423 1                           1                     \n",
       "4424 1                           1                     \n",
       "     Previous.qualification..grade. Nacionality Mother.s.qualification\n",
       "1    122.0                          1           19                    \n",
       "2    160.0                          1            1                    \n",
       "3    122.0                          1           37                    \n",
       "4    122.0                          1           38                    \n",
       "⋮    ⋮                              ⋮           ⋮                     \n",
       "4421 120.0                          105          1                    \n",
       "4422 154.0                            1         37                    \n",
       "4423 180.0                            1         37                    \n",
       "4424 152.0                           22         38                    \n",
       "     Father.s.qualification ⋯ Curricular.units.2nd.sem..credited.\n",
       "1    12                     ⋯ 0                                  \n",
       "2     3                     ⋯ 0                                  \n",
       "3    37                     ⋯ 0                                  \n",
       "4    37                     ⋯ 0                                  \n",
       "⋮    ⋮                      ⋱ ⋮                                  \n",
       "4421  1                     ⋯ 0                                  \n",
       "4422 37                     ⋯ 0                                  \n",
       "4423 37                     ⋯ 0                                  \n",
       "4424 37                     ⋯ 0                                  \n",
       "     Curricular.units.2nd.sem..enrolled. Curricular.units.2nd.sem..evaluations.\n",
       "1    0                                    0                                    \n",
       "2    6                                    6                                    \n",
       "3    6                                    0                                    \n",
       "4    6                                   10                                    \n",
       "⋮    ⋮                                   ⋮                                     \n",
       "4421 6                                   6                                     \n",
       "4422 8                                   9                                     \n",
       "4423 5                                   6                                     \n",
       "4424 6                                   6                                     \n",
       "     Curricular.units.2nd.sem..approved. Curricular.units.2nd.sem..grade.\n",
       "1    0                                   0.0                             \n",
       "2    6                                   13.666666666666666              \n",
       "3    0                                   0.0                             \n",
       "4    5                                   12.4                            \n",
       "⋮    ⋮                                   ⋮                               \n",
       "4421 2                                   11.0                            \n",
       "4422 1                                   13.5                            \n",
       "4423 5                                   12.0                            \n",
       "4424 6                                   13.0                            \n",
       "     Curricular.units.2nd.sem..without.evaluations. Unemployment.rate\n",
       "1    0                                              10.8             \n",
       "2    0                                              13.9             \n",
       "3    0                                              10.8             \n",
       "4    0                                              9.4              \n",
       "⋮    ⋮                                              ⋮                \n",
       "4421 0                                              11.1             \n",
       "4422 0                                              13.9             \n",
       "4423 0                                              9.4              \n",
       "4424 0                                              12.7             \n",
       "     Inflation.rate GDP   Target  \n",
       "1    1.4            1.74  Dropout \n",
       "2    -0.3           0.79  Graduate\n",
       "3    1.4            1.74  Dropout \n",
       "4    -0.8           -3.12 Graduate\n",
       "⋮    ⋮              ⋮     ⋮       \n",
       "4421 0.6            2.02  Dropout \n",
       "4422 -0.3           0.79  Dropout \n",
       "4423 -0.8           -3.12 Graduate\n",
       "4424 3.7            -1.7  Graduate"
      ]
     },
     "metadata": {},
     "output_type": "display_data"
    }
   ],
   "source": [
    "# clean data\n",
    "dropout_clean <- dropout_data %>% \n",
    "    mutate(Target = as_factor(Target)) # here we can just clean everything/change everything that needs to be changed\n",
    "\n",
    "dropout_clean"
   ]
  },
  {
   "cell_type": "markdown",
   "id": "6f8bfb82-1a19-4441-ab45-81104616e13e",
   "metadata": {
    "tags": []
   },
   "source": [
    "Figure 2. Tidied tibble of IPP student dropout data"
   ]
  },
  {
   "cell_type": "markdown",
   "id": "f6c629df-99a2-4aa2-b548-683aef9fecec",
   "metadata": {},
   "source": [
    "### Variables Information"
   ]
  },
  {
   "cell_type": "markdown",
   "id": "dd09eded-45c7-46c5-9654-aed690e0417d",
   "metadata": {},
   "source": [
    "The description of columns are given by the data set information on the UCI Machine Learning Repository page.\n",
    "\n",
    "**Admission.grade:** Students' admission grade is standardized (0-200).\n",
    "\n",
    "**Target:** Student can be classified as three different types (dropout, enrolled, graduate).\n",
    "\n",
    "*Can add more if we need to*"
   ]
  },
  {
   "cell_type": "markdown",
   "id": "79423df6-fb4c-4aa6-91d4-e57def15f0f2",
   "metadata": {},
   "source": [
    "### Regrouping the Response Variable "
   ]
  },
  {
   "cell_type": "markdown",
   "id": "8b5120a4-af55-4c44-a342-ab10f5c3aa6a",
   "metadata": {},
   "source": [
    "*May not need this. Depending on how we interact with dropout/enrolled/graduate*"
   ]
  },
  {
   "cell_type": "markdown",
   "id": "afbf8a3f-4e0f-4eed-84c7-8a2f53fd61cc",
   "metadata": {},
   "source": [
    "### Data Analysis and Visualizations"
   ]
  },
  {
   "cell_type": "markdown",
   "id": "f79c538a-fb5d-4c40-b19e-58461507a8c8",
   "metadata": {},
   "source": [
    "*Can do visualizations and estimates here*"
   ]
  },
  {
   "cell_type": "markdown",
   "id": "928da08f-c9de-4db9-ac39-bb182fc435f1",
   "metadata": {},
   "source": [
    "## 3. Methods: Plan"
   ]
  },
  {
   "cell_type": "markdown",
   "id": "e6bd8d0a-1b62-45f8-b69c-e61c3586bb53",
   "metadata": {},
   "source": [
    "The credibility of this report hinges on a reliable dataset, as the IPP has previously leveraged this data to construct machine learning classification models for forecasting students' challenges in completing their degrees.\n",
    "\n",
    "We plan to conduct a one sided hypothesis test to examine if there is enough evidence to suggest that the admission grades of dropout students are lower than those of students who graduate. Furthermore, we can use a confidence interval to capture the true mean admission grades of these students. \n",
    "    \n",
    "One outcome that we may find is that students who dropped out have lower admission grades compared to students who did not drop out. This finding may indicate the students entering higher education with weaker academic backgrounds are more likely to experience attrition. This research can serve as a stepping stone for further investigations into how to strengthen the academic knowledge of these vulnerable students.\n"
   ]
  },
  {
   "cell_type": "markdown",
   "id": "cde44ee3-a74b-487f-875d-7034cef9d699",
   "metadata": {
    "tags": []
   },
   "source": [
    "## 4. References"
   ]
  },
  {
   "cell_type": "markdown",
   "id": "54071467-89bc-4fdd-802a-9d1be184382b",
   "metadata": {},
   "source": [
    "Realinho,Valentim, Vieira Martins,Mónica, Machado,Jorge, and Baptista,Luís. (2021). Predict students' dropout and academic success. UCI Machine Learning Repository. https://doi.org/10.24432/C5MC89."
   ]
  },
  {
   "cell_type": "code",
   "execution_count": null,
   "id": "611d03b9-b3a8-468b-bfdd-920cab5bd0d8",
   "metadata": {},
   "outputs": [],
   "source": []
  }
 ],
 "metadata": {
  "kernelspec": {
   "display_name": "R",
   "language": "R",
   "name": "ir"
  },
  "language_info": {
   "codemirror_mode": "r",
   "file_extension": ".r",
   "mimetype": "text/x-r-source",
   "name": "R",
   "pygments_lexer": "r",
   "version": "4.2.3"
  }
 },
 "nbformat": 4,
 "nbformat_minor": 5
}
